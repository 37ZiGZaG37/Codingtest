{
  "nbformat": 4,
  "nbformat_minor": 0,
  "metadata": {
    "colab": {
      "provenance": [],
      "mount_file_id": "1tAfRzTLTL_hSMyQsGZTd4mNovhUN8Djk",
      "authorship_tag": "ABX9TyPtSldykybFRk9cx26QuiJr",
      "include_colab_link": true
    },
    "kernelspec": {
      "name": "python3",
      "display_name": "Python 3"
    },
    "language_info": {
      "name": "python"
    }
  },
  "cells": [
    {
      "cell_type": "markdown",
      "metadata": {
        "id": "view-in-github",
        "colab_type": "text"
      },
      "source": [
        "<a href=\"https://colab.research.google.com/github/37ZiGZaG37/Codingtest/blob/main/Codingtest.ipynb\" target=\"_parent\"><img src=\"https://colab.research.google.com/assets/colab-badge.svg\" alt=\"Open In Colab\"/></a>"
      ]
    },
    {
      "cell_type": "markdown",
      "source": [
        "\n",
        "## **Codingtest**\n",
        "In een databricks notebook zoals deze is het mogelijk om meerdere programmeertalen te gebruiken. Aan het begin van een cel kun je de taal specificeren door %% te typen\n"
      ],
      "metadata": {
        "id": "V83JAvOZ6MV9"
      }
    },
    {
      "cell_type": "markdown",
      "source": [
        "Om het leven wat te veraangenamen worden hieronder enkele csv-files ingelezen."
      ],
      "metadata": {
        "id": "Zud5IAeh6YtO"
      }
    },
    {
      "cell_type": "code",
      "source": [
        "!pip install pyspark"
      ],
      "metadata": {
        "colab": {
          "base_uri": "https://localhost:8080/"
        },
        "id": "BRVsEMkF8Cuc",
        "outputId": "bb000a7d-2b9f-4327-f597-5be1b8ea0eda"
      },
      "execution_count": null,
      "outputs": [
        {
          "output_type": "stream",
          "name": "stdout",
          "text": [
            "Requirement already satisfied: pyspark in /usr/local/lib/python3.11/dist-packages (3.5.4)\n",
            "Requirement already satisfied: py4j==0.10.9.7 in /usr/local/lib/python3.11/dist-packages (from pyspark) (0.10.9.7)\n"
          ]
        }
      ]
    },
    {
      "cell_type": "code",
      "source": [
        "from pyspark.sql import SparkSession\n",
        "\n",
        "# Create a SparkSession\n",
        "spark = SparkSession.builder.appName(\"Codingtest\").getOrCreate()\n",
        "\n",
        "#artikelinfo inlezen\n",
        "df_artinfo = spark.read.format(\"csv\").load(\"/content/drive/MyDrive/Colab Notebooks/Codingtest/Codingtest - Artikelinformatie.csv\",\n",
        "    header=\"true\",\n",
        "    delimiter=\";\"\n",
        ")\n",
        "#winkelinfo inlezen\n",
        "df_winkelinfo = spark.read.format(\"csv\").load(\"/content/drive/MyDrive/Colab Notebooks/Codingtest/Codingtest - Winkelinformatie.csv\",\n",
        "    header=\"true\",\n",
        "    delimiter=\";\"\n",
        ")\n",
        "#afzet per winkel per week inlezen\n",
        "df_afzet = spark.read.format(\"csv\").load(\"/content/drive/MyDrive/Colab Notebooks/Codingtest/Codingtest - Afzet per winkel per week.csv\",\n",
        "    header=\"true\",\n",
        "    delimiter=\";\"\n",
        ")"
      ],
      "metadata": {
        "id": "wPJkM8Nc6dp0"
      },
      "execution_count": null,
      "outputs": []
    },
    {
      "cell_type": "markdown",
      "source": [
        "## **Boodschappenpakketten**\n",
        "In januari is er bij Jumbo een nieuwe actie in gang gezet: voor iedere 500 Euro besteed aan boodschappen is er de mogelijkheid om voor een klein bedrag een boodschappenpakket t.w.v. 50 Euro aan te schaffen. Winkels hebben de mogelijkheid om in de eerste vier weken een aantal pakketten te bestellen op een dusdanige manier dat zij de pakketten in de winkel kunnen presenteren op een manier die klanten aanspreekt. Er zullen nog niet of nauwelijks boodschappenpakketten worden verkocht. De pakketten, met zorg ingepakt door een leverancier, zijn heel lang houdbaar. Het is dus niet erg als winkels een grote voorraad opbouwen. De pakketten worden aangeleverd op pallets en op winkelniveau op rolcontainers verzameld in de regionale distributiecentra van Jumbo. Om de winkel optimaal te faciliteren wordt afgesproken dat de boodschappenpakketten op separate rolcontainers wordt uitgeleverd.\n",
        "\n",
        "In het bestand Artikelinformatie.csv, hierboven ingelezen in **df_artinfo**, vind je relevante informatie over dit artikel: dimensies, het aantal pakketten dat de leverancier op een pallet aanlevert, en het maximum aantal dat er op een rolcontainer past.\n",
        "\n",
        "In het bestand Afzet per winkel per week.csv, hierboven ingelezen in **df_afzet** vind je een overzicht van winkels met de aantal bestelde pakketten voor de eerste 4 weken van dit jaar.\n",
        "\n",
        "*Vraag 1: Hoeveel pallets aan boodschappenpakketten moet de leverancier op weekbasis aanleveren om aan alle bestellingen te kunnen voldoen?*"
      ],
      "metadata": {
        "id": "IruMB5yr_-Dv"
      }
    },
    {
      "cell_type": "code",
      "source": [],
      "metadata": {
        "id": "P8EFWfN4_5h-"
      },
      "execution_count": null,
      "outputs": []
    },
    {
      "cell_type": "markdown",
      "source": [
        "De regionale distributiecentra van Jumbo bevinden zich in respectievelijk Beilen, Breda, Veghel en Woerden. Zij zijn op de hoogte van de actie, maar om een fatsoenlijke planning te kunnen maken willen ze graag weten hoeveel pallets er worden geleverd en hoeveel rolcontainers er worden uitgeleverd door deze actie.\n",
        "\n",
        "Een overzicht van winkels en hun leverend distributiecentrum kun je vinden in Winkelinformatie.csv, hierboven ingelezen in **df_winkelinfo**\n",
        "\n",
        "_Vraag 2: Hoeveel pallets en hoeveel rolcontainers worden er op weekbasis verwacht voor ieder van de regionale distributiecentra?_\n"
      ],
      "metadata": {
        "id": "87oI0Sz4AZro"
      }
    },
    {
      "cell_type": "code",
      "source": [],
      "metadata": {
        "id": "CjaVKmlxAh2j"
      },
      "execution_count": null,
      "outputs": []
    },
    {
      "cell_type": "markdown",
      "source": [
        "De leverancier geeft aan tegen capaciteitsproblemen aan te lopen. Zij kunnen op weekbasis maximaal 60 pallets aan boodschappenpakketten inpakken.\n",
        "\n",
        "_Vraag 3: Kun je een nieuwe en zo eerlijk mogelijke verdeling maken van de aantallen pakketten die winkels gaan ontvangen?_\n",
        "\n",
        "_Vraag 4: In hoeverre verandert dit het antwoord op vraag 1 en 2?_"
      ],
      "metadata": {
        "id": "IFhWSXK7AjQr"
      }
    },
    {
      "cell_type": "code",
      "source": [],
      "metadata": {
        "id": "unlyV8c6AuRz"
      },
      "execution_count": null,
      "outputs": []
    }
  ]
}